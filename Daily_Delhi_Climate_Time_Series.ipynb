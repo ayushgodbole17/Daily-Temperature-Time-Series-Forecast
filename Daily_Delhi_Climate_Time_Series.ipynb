{
  "nbformat": 4,
  "nbformat_minor": 0,
  "metadata": {
    "colab": {
      "provenance": []
    },
    "kernelspec": {
      "name": "python3",
      "display_name": "Python 3"
    },
    "language_info": {
      "name": "python"
    },
    "accelerator": "GPU",
    "gpuClass": "standard"
  },
  "cells": [
    {
      "cell_type": "code",
      "execution_count": 67,
      "metadata": {
        "id": "rx0qBJb3cm9J"
      },
      "outputs": [],
      "source": [
        "import numpy as np\n",
        "import matplotlib.pyplot as plt\n",
        "import tensorflow as tf\n",
        "import tensorflow.keras as keras\n",
        "import tensorflow.keras.layers as layers\n",
        "import pandas as pd"
      ]
    },
    {
      "cell_type": "code",
      "source": [
        "! pip install kaggle\n",
        "! mkdir ~/.kaggle\n",
        "! cp kaggle.json ~/.kaggle/\n",
        "! chmod 600 ~/.kaggle/kaggle.json"
      ],
      "metadata": {
        "colab": {
          "base_uri": "https://localhost:8080/"
        },
        "id": "wqOzaCwdebHt",
        "outputId": "d7233875-69d8-4347-fc4b-72a1e087252b"
      },
      "execution_count": 68,
      "outputs": [
        {
          "output_type": "stream",
          "name": "stdout",
          "text": [
            "Looking in indexes: https://pypi.org/simple, https://us-python.pkg.dev/colab-wheels/public/simple/\n",
            "Requirement already satisfied: kaggle in /usr/local/lib/python3.7/dist-packages (1.5.12)\n",
            "Requirement already satisfied: python-slugify in /usr/local/lib/python3.7/dist-packages (from kaggle) (6.1.2)\n",
            "Requirement already satisfied: tqdm in /usr/local/lib/python3.7/dist-packages (from kaggle) (4.64.0)\n",
            "Requirement already satisfied: six>=1.10 in /usr/local/lib/python3.7/dist-packages (from kaggle) (1.15.0)\n",
            "Requirement already satisfied: requests in /usr/local/lib/python3.7/dist-packages (from kaggle) (2.23.0)\n",
            "Requirement already satisfied: urllib3 in /usr/local/lib/python3.7/dist-packages (from kaggle) (1.24.3)\n",
            "Requirement already satisfied: certifi in /usr/local/lib/python3.7/dist-packages (from kaggle) (2022.6.15)\n",
            "Requirement already satisfied: python-dateutil in /usr/local/lib/python3.7/dist-packages (from kaggle) (2.8.2)\n",
            "Requirement already satisfied: text-unidecode>=1.3 in /usr/local/lib/python3.7/dist-packages (from python-slugify->kaggle) (1.3)\n",
            "Requirement already satisfied: chardet<4,>=3.0.2 in /usr/local/lib/python3.7/dist-packages (from requests->kaggle) (3.0.4)\n",
            "Requirement already satisfied: idna<3,>=2.5 in /usr/local/lib/python3.7/dist-packages (from requests->kaggle) (2.10)\n",
            "mkdir: cannot create directory ‘/root/.kaggle’: File exists\n"
          ]
        }
      ]
    },
    {
      "cell_type": "code",
      "source": [
        "! kaggle datasets download -d sumanthvrao/daily-climate-time-series-data\n",
        "! unzip daily-climate-time-series-data.zip"
      ],
      "metadata": {
        "colab": {
          "base_uri": "https://localhost:8080/"
        },
        "id": "IqfOdPtxecr1",
        "outputId": "16ffca6c-b7d7-4bb5-adf9-c60ef8bd6265"
      },
      "execution_count": 69,
      "outputs": [
        {
          "output_type": "stream",
          "name": "stdout",
          "text": [
            "daily-climate-time-series-data.zip: Skipping, found more recently modified local copy (use --force to force download)\n",
            "Archive:  daily-climate-time-series-data.zip\n",
            "replace DailyDelhiClimateTest.csv? [y]es, [n]o, [A]ll, [N]one, [r]ename: "
          ]
        }
      ]
    },
    {
      "cell_type": "code",
      "source": [
        "train_dataset = pd.read_csv('DailyDelhiClimateTrain.csv')"
      ],
      "metadata": {
        "id": "2wU1_I6VeiF9"
      },
      "execution_count": 70,
      "outputs": []
    },
    {
      "cell_type": "code",
      "source": [
        "train_dataset.head()"
      ],
      "metadata": {
        "colab": {
          "base_uri": "https://localhost:8080/",
          "height": 206
        },
        "id": "u5Tf9kZBezf0",
        "outputId": "576dce82-e493-4cb5-a77e-fe852d6face6"
      },
      "execution_count": 71,
      "outputs": [
        {
          "output_type": "execute_result",
          "data": {
            "text/plain": [
              "         date   meantemp   humidity  wind_speed  meanpressure\n",
              "0  2013-01-01  10.000000  84.500000    0.000000   1015.666667\n",
              "1  2013-01-02   7.400000  92.000000    2.980000   1017.800000\n",
              "2  2013-01-03   7.166667  87.000000    4.633333   1018.666667\n",
              "3  2013-01-04   8.666667  71.333333    1.233333   1017.166667\n",
              "4  2013-01-05   6.000000  86.833333    3.700000   1016.500000"
            ],
            "text/html": [
              "\n",
              "  <div id=\"df-17b72ba6-f159-421e-8b9f-98399791101e\">\n",
              "    <div class=\"colab-df-container\">\n",
              "      <div>\n",
              "<style scoped>\n",
              "    .dataframe tbody tr th:only-of-type {\n",
              "        vertical-align: middle;\n",
              "    }\n",
              "\n",
              "    .dataframe tbody tr th {\n",
              "        vertical-align: top;\n",
              "    }\n",
              "\n",
              "    .dataframe thead th {\n",
              "        text-align: right;\n",
              "    }\n",
              "</style>\n",
              "<table border=\"1\" class=\"dataframe\">\n",
              "  <thead>\n",
              "    <tr style=\"text-align: right;\">\n",
              "      <th></th>\n",
              "      <th>date</th>\n",
              "      <th>meantemp</th>\n",
              "      <th>humidity</th>\n",
              "      <th>wind_speed</th>\n",
              "      <th>meanpressure</th>\n",
              "    </tr>\n",
              "  </thead>\n",
              "  <tbody>\n",
              "    <tr>\n",
              "      <th>0</th>\n",
              "      <td>2013-01-01</td>\n",
              "      <td>10.000000</td>\n",
              "      <td>84.500000</td>\n",
              "      <td>0.000000</td>\n",
              "      <td>1015.666667</td>\n",
              "    </tr>\n",
              "    <tr>\n",
              "      <th>1</th>\n",
              "      <td>2013-01-02</td>\n",
              "      <td>7.400000</td>\n",
              "      <td>92.000000</td>\n",
              "      <td>2.980000</td>\n",
              "      <td>1017.800000</td>\n",
              "    </tr>\n",
              "    <tr>\n",
              "      <th>2</th>\n",
              "      <td>2013-01-03</td>\n",
              "      <td>7.166667</td>\n",
              "      <td>87.000000</td>\n",
              "      <td>4.633333</td>\n",
              "      <td>1018.666667</td>\n",
              "    </tr>\n",
              "    <tr>\n",
              "      <th>3</th>\n",
              "      <td>2013-01-04</td>\n",
              "      <td>8.666667</td>\n",
              "      <td>71.333333</td>\n",
              "      <td>1.233333</td>\n",
              "      <td>1017.166667</td>\n",
              "    </tr>\n",
              "    <tr>\n",
              "      <th>4</th>\n",
              "      <td>2013-01-05</td>\n",
              "      <td>6.000000</td>\n",
              "      <td>86.833333</td>\n",
              "      <td>3.700000</td>\n",
              "      <td>1016.500000</td>\n",
              "    </tr>\n",
              "  </tbody>\n",
              "</table>\n",
              "</div>\n",
              "      <button class=\"colab-df-convert\" onclick=\"convertToInteractive('df-17b72ba6-f159-421e-8b9f-98399791101e')\"\n",
              "              title=\"Convert this dataframe to an interactive table.\"\n",
              "              style=\"display:none;\">\n",
              "        \n",
              "  <svg xmlns=\"http://www.w3.org/2000/svg\" height=\"24px\"viewBox=\"0 0 24 24\"\n",
              "       width=\"24px\">\n",
              "    <path d=\"M0 0h24v24H0V0z\" fill=\"none\"/>\n",
              "    <path d=\"M18.56 5.44l.94 2.06.94-2.06 2.06-.94-2.06-.94-.94-2.06-.94 2.06-2.06.94zm-11 1L8.5 8.5l.94-2.06 2.06-.94-2.06-.94L8.5 2.5l-.94 2.06-2.06.94zm10 10l.94 2.06.94-2.06 2.06-.94-2.06-.94-.94-2.06-.94 2.06-2.06.94z\"/><path d=\"M17.41 7.96l-1.37-1.37c-.4-.4-.92-.59-1.43-.59-.52 0-1.04.2-1.43.59L10.3 9.45l-7.72 7.72c-.78.78-.78 2.05 0 2.83L4 21.41c.39.39.9.59 1.41.59.51 0 1.02-.2 1.41-.59l7.78-7.78 2.81-2.81c.8-.78.8-2.07 0-2.86zM5.41 20L4 18.59l7.72-7.72 1.47 1.35L5.41 20z\"/>\n",
              "  </svg>\n",
              "      </button>\n",
              "      \n",
              "  <style>\n",
              "    .colab-df-container {\n",
              "      display:flex;\n",
              "      flex-wrap:wrap;\n",
              "      gap: 12px;\n",
              "    }\n",
              "\n",
              "    .colab-df-convert {\n",
              "      background-color: #E8F0FE;\n",
              "      border: none;\n",
              "      border-radius: 50%;\n",
              "      cursor: pointer;\n",
              "      display: none;\n",
              "      fill: #1967D2;\n",
              "      height: 32px;\n",
              "      padding: 0 0 0 0;\n",
              "      width: 32px;\n",
              "    }\n",
              "\n",
              "    .colab-df-convert:hover {\n",
              "      background-color: #E2EBFA;\n",
              "      box-shadow: 0px 1px 2px rgba(60, 64, 67, 0.3), 0px 1px 3px 1px rgba(60, 64, 67, 0.15);\n",
              "      fill: #174EA6;\n",
              "    }\n",
              "\n",
              "    [theme=dark] .colab-df-convert {\n",
              "      background-color: #3B4455;\n",
              "      fill: #D2E3FC;\n",
              "    }\n",
              "\n",
              "    [theme=dark] .colab-df-convert:hover {\n",
              "      background-color: #434B5C;\n",
              "      box-shadow: 0px 1px 3px 1px rgba(0, 0, 0, 0.15);\n",
              "      filter: drop-shadow(0px 1px 2px rgba(0, 0, 0, 0.3));\n",
              "      fill: #FFFFFF;\n",
              "    }\n",
              "  </style>\n",
              "\n",
              "      <script>\n",
              "        const buttonEl =\n",
              "          document.querySelector('#df-17b72ba6-f159-421e-8b9f-98399791101e button.colab-df-convert');\n",
              "        buttonEl.style.display =\n",
              "          google.colab.kernel.accessAllowed ? 'block' : 'none';\n",
              "\n",
              "        async function convertToInteractive(key) {\n",
              "          const element = document.querySelector('#df-17b72ba6-f159-421e-8b9f-98399791101e');\n",
              "          const dataTable =\n",
              "            await google.colab.kernel.invokeFunction('convertToInteractive',\n",
              "                                                     [key], {});\n",
              "          if (!dataTable) return;\n",
              "\n",
              "          const docLinkHtml = 'Like what you see? Visit the ' +\n",
              "            '<a target=\"_blank\" href=https://colab.research.google.com/notebooks/data_table.ipynb>data table notebook</a>'\n",
              "            + ' to learn more about interactive tables.';\n",
              "          element.innerHTML = '';\n",
              "          dataTable['output_type'] = 'display_data';\n",
              "          await google.colab.output.renderOutput(dataTable, element);\n",
              "          const docLink = document.createElement('div');\n",
              "          docLink.innerHTML = docLinkHtml;\n",
              "          element.appendChild(docLink);\n",
              "        }\n",
              "      </script>\n",
              "    </div>\n",
              "  </div>\n",
              "  "
            ]
          },
          "metadata": {},
          "execution_count": 71
        }
      ]
    },
    {
      "cell_type": "code",
      "source": [
        "train_dataset.corr()"
      ],
      "metadata": {
        "colab": {
          "base_uri": "https://localhost:8080/",
          "height": 175
        },
        "id": "KqTaZaVse1hs",
        "outputId": "e47bed7e-fb9b-4025-80cf-cfcb163075be"
      },
      "execution_count": 72,
      "outputs": [
        {
          "output_type": "execute_result",
          "data": {
            "text/plain": [
              "              meantemp  humidity  wind_speed  meanpressure\n",
              "meantemp      1.000000 -0.571951    0.306468     -0.038818\n",
              "humidity     -0.571951  1.000000   -0.373972      0.001734\n",
              "wind_speed    0.306468 -0.373972    1.000000     -0.020670\n",
              "meanpressure -0.038818  0.001734   -0.020670      1.000000"
            ],
            "text/html": [
              "\n",
              "  <div id=\"df-2f3ac9be-63ca-4b45-a9e0-60b217ad81f9\">\n",
              "    <div class=\"colab-df-container\">\n",
              "      <div>\n",
              "<style scoped>\n",
              "    .dataframe tbody tr th:only-of-type {\n",
              "        vertical-align: middle;\n",
              "    }\n",
              "\n",
              "    .dataframe tbody tr th {\n",
              "        vertical-align: top;\n",
              "    }\n",
              "\n",
              "    .dataframe thead th {\n",
              "        text-align: right;\n",
              "    }\n",
              "</style>\n",
              "<table border=\"1\" class=\"dataframe\">\n",
              "  <thead>\n",
              "    <tr style=\"text-align: right;\">\n",
              "      <th></th>\n",
              "      <th>meantemp</th>\n",
              "      <th>humidity</th>\n",
              "      <th>wind_speed</th>\n",
              "      <th>meanpressure</th>\n",
              "    </tr>\n",
              "  </thead>\n",
              "  <tbody>\n",
              "    <tr>\n",
              "      <th>meantemp</th>\n",
              "      <td>1.000000</td>\n",
              "      <td>-0.571951</td>\n",
              "      <td>0.306468</td>\n",
              "      <td>-0.038818</td>\n",
              "    </tr>\n",
              "    <tr>\n",
              "      <th>humidity</th>\n",
              "      <td>-0.571951</td>\n",
              "      <td>1.000000</td>\n",
              "      <td>-0.373972</td>\n",
              "      <td>0.001734</td>\n",
              "    </tr>\n",
              "    <tr>\n",
              "      <th>wind_speed</th>\n",
              "      <td>0.306468</td>\n",
              "      <td>-0.373972</td>\n",
              "      <td>1.000000</td>\n",
              "      <td>-0.020670</td>\n",
              "    </tr>\n",
              "    <tr>\n",
              "      <th>meanpressure</th>\n",
              "      <td>-0.038818</td>\n",
              "      <td>0.001734</td>\n",
              "      <td>-0.020670</td>\n",
              "      <td>1.000000</td>\n",
              "    </tr>\n",
              "  </tbody>\n",
              "</table>\n",
              "</div>\n",
              "      <button class=\"colab-df-convert\" onclick=\"convertToInteractive('df-2f3ac9be-63ca-4b45-a9e0-60b217ad81f9')\"\n",
              "              title=\"Convert this dataframe to an interactive table.\"\n",
              "              style=\"display:none;\">\n",
              "        \n",
              "  <svg xmlns=\"http://www.w3.org/2000/svg\" height=\"24px\"viewBox=\"0 0 24 24\"\n",
              "       width=\"24px\">\n",
              "    <path d=\"M0 0h24v24H0V0z\" fill=\"none\"/>\n",
              "    <path d=\"M18.56 5.44l.94 2.06.94-2.06 2.06-.94-2.06-.94-.94-2.06-.94 2.06-2.06.94zm-11 1L8.5 8.5l.94-2.06 2.06-.94-2.06-.94L8.5 2.5l-.94 2.06-2.06.94zm10 10l.94 2.06.94-2.06 2.06-.94-2.06-.94-.94-2.06-.94 2.06-2.06.94z\"/><path d=\"M17.41 7.96l-1.37-1.37c-.4-.4-.92-.59-1.43-.59-.52 0-1.04.2-1.43.59L10.3 9.45l-7.72 7.72c-.78.78-.78 2.05 0 2.83L4 21.41c.39.39.9.59 1.41.59.51 0 1.02-.2 1.41-.59l7.78-7.78 2.81-2.81c.8-.78.8-2.07 0-2.86zM5.41 20L4 18.59l7.72-7.72 1.47 1.35L5.41 20z\"/>\n",
              "  </svg>\n",
              "      </button>\n",
              "      \n",
              "  <style>\n",
              "    .colab-df-container {\n",
              "      display:flex;\n",
              "      flex-wrap:wrap;\n",
              "      gap: 12px;\n",
              "    }\n",
              "\n",
              "    .colab-df-convert {\n",
              "      background-color: #E8F0FE;\n",
              "      border: none;\n",
              "      border-radius: 50%;\n",
              "      cursor: pointer;\n",
              "      display: none;\n",
              "      fill: #1967D2;\n",
              "      height: 32px;\n",
              "      padding: 0 0 0 0;\n",
              "      width: 32px;\n",
              "    }\n",
              "\n",
              "    .colab-df-convert:hover {\n",
              "      background-color: #E2EBFA;\n",
              "      box-shadow: 0px 1px 2px rgba(60, 64, 67, 0.3), 0px 1px 3px 1px rgba(60, 64, 67, 0.15);\n",
              "      fill: #174EA6;\n",
              "    }\n",
              "\n",
              "    [theme=dark] .colab-df-convert {\n",
              "      background-color: #3B4455;\n",
              "      fill: #D2E3FC;\n",
              "    }\n",
              "\n",
              "    [theme=dark] .colab-df-convert:hover {\n",
              "      background-color: #434B5C;\n",
              "      box-shadow: 0px 1px 3px 1px rgba(0, 0, 0, 0.15);\n",
              "      filter: drop-shadow(0px 1px 2px rgba(0, 0, 0, 0.3));\n",
              "      fill: #FFFFFF;\n",
              "    }\n",
              "  </style>\n",
              "\n",
              "      <script>\n",
              "        const buttonEl =\n",
              "          document.querySelector('#df-2f3ac9be-63ca-4b45-a9e0-60b217ad81f9 button.colab-df-convert');\n",
              "        buttonEl.style.display =\n",
              "          google.colab.kernel.accessAllowed ? 'block' : 'none';\n",
              "\n",
              "        async function convertToInteractive(key) {\n",
              "          const element = document.querySelector('#df-2f3ac9be-63ca-4b45-a9e0-60b217ad81f9');\n",
              "          const dataTable =\n",
              "            await google.colab.kernel.invokeFunction('convertToInteractive',\n",
              "                                                     [key], {});\n",
              "          if (!dataTable) return;\n",
              "\n",
              "          const docLinkHtml = 'Like what you see? Visit the ' +\n",
              "            '<a target=\"_blank\" href=https://colab.research.google.com/notebooks/data_table.ipynb>data table notebook</a>'\n",
              "            + ' to learn more about interactive tables.';\n",
              "          element.innerHTML = '';\n",
              "          dataTable['output_type'] = 'display_data';\n",
              "          await google.colab.output.renderOutput(dataTable, element);\n",
              "          const docLink = document.createElement('div');\n",
              "          docLink.innerHTML = docLinkHtml;\n",
              "          element.appendChild(docLink);\n",
              "        }\n",
              "      </script>\n",
              "    </div>\n",
              "  </div>\n",
              "  "
            ]
          },
          "metadata": {},
          "execution_count": 72
        }
      ]
    },
    {
      "cell_type": "code",
      "source": [
        "train_dataset.isnull().sum()"
      ],
      "metadata": {
        "colab": {
          "base_uri": "https://localhost:8080/"
        },
        "id": "2--WNv3kgNn9",
        "outputId": "167d8796-ef15-453d-c8d4-71c9987ff35f"
      },
      "execution_count": 73,
      "outputs": [
        {
          "output_type": "execute_result",
          "data": {
            "text/plain": [
              "date            0\n",
              "meantemp        0\n",
              "humidity        0\n",
              "wind_speed      0\n",
              "meanpressure    0\n",
              "dtype: int64"
            ]
          },
          "metadata": {},
          "execution_count": 73
        }
      ]
    },
    {
      "cell_type": "code",
      "source": [
        "num_train = int(0.8*(len(train_dataset['meantemp'])))\n",
        "xtrain, xval = train_dataset['meantemp'][:num_train], train_dataset['meantemp'][num_train:]"
      ],
      "metadata": {
        "id": "v-CJhvf6fsYN"
      },
      "execution_count": 74,
      "outputs": []
    },
    {
      "cell_type": "code",
      "source": [
        "plt.plot(xtrain, color='red')\n",
        "plt.plot(xval, color='blue')"
      ],
      "metadata": {
        "colab": {
          "base_uri": "https://localhost:8080/",
          "height": 284
        },
        "id": "1ucT5iQ8kvBt",
        "outputId": "f20fb7d8-a5f8-4adf-913a-9e29400654d4"
      },
      "execution_count": 75,
      "outputs": [
        {
          "output_type": "execute_result",
          "data": {
            "text/plain": [
              "[<matplotlib.lines.Line2D at 0x7f93abafbb10>]"
            ]
          },
          "metadata": {},
          "execution_count": 75
        },
        {
          "output_type": "display_data",
          "data": {
            "text/plain": [
              "<Figure size 432x288 with 1 Axes>"
            ],
            "image/png": "[encoded data removed]"
          },
          "metadata": {
            "needs_background": "light"
          }
        }
      ]
    },
    {
      "cell_type": "code",
      "source": [
        "window_size = 32\n",
        "batch_size = 32\n",
        "shuffle_buffer_size = 500"
      ],
      "metadata": {
        "id": "-bVv1KkbgT9N"
      },
      "execution_count": 76,
      "outputs": []
    },
    {
      "cell_type": "code",
      "source": [
        "def windowed_dataset(series, window_size, batch_size, shuffle_buffer):\n",
        "  \n",
        "    # Generate a TF Dataset from the series values\n",
        "    dataset = tf.data.Dataset.from_tensor_slices(series)\n",
        "    \n",
        "    # Window the data but only take those with the specified size\n",
        "    dataset = dataset.window(window_size + 1, shift=1, drop_remainder=True)\n",
        "    \n",
        "    # Flatten the windows by putting its elements in a single batch\n",
        "    dataset = dataset.flat_map(lambda window: window.batch(window_size + 1))\n",
        "\n",
        "    # Create tuples with features and labels \n",
        "    dataset = dataset.map(lambda window: (window[:-1], window[-1]))\n",
        "\n",
        "    # Shuffle the windows\n",
        "    dataset = dataset.shuffle(shuffle_buffer)\n",
        "    \n",
        "    # Create batches of windows\n",
        "    dataset = dataset.batch(batch_size).prefetch(1)\n",
        "    \n",
        "    return dataset"
      ],
      "metadata": {
        "id": "zV4tlF6nghcM"
      },
      "execution_count": 77,
      "outputs": []
    },
    {
      "cell_type": "code",
      "source": [
        "dataset = windowed_dataset(xtrain, window_size, batch_size, shuffle_buffer_size)"
      ],
      "metadata": {
        "id": "vzJ8bZS0gkY7"
      },
      "execution_count": 78,
      "outputs": []
    },
    {
      "cell_type": "code",
      "source": [
        "type(dataset)"
      ],
      "metadata": {
        "colab": {
          "base_uri": "https://localhost:8080/"
        },
        "id": "y-GXcPq4gvIE",
        "outputId": "504a3824-5ac1-4b16-a26e-948e7a077104"
      },
      "execution_count": 79,
      "outputs": [
        {
          "output_type": "execute_result",
          "data": {
            "text/plain": [
              "tensorflow.python.data.ops.dataset_ops.PrefetchDataset"
            ]
          },
          "metadata": {},
          "execution_count": 79
        }
      ]
    },
    {
      "cell_type": "code",
      "source": [
        "for windows in dataset.take(1):\n",
        "  print(f'data type: {type(windows)}')\n",
        "  print(f'number of elements in the tuple: {len(windows)}')\n",
        "  print(f'shape of first element: {windows[0].shape}')\n",
        "  print(f'shape of second element: {windows[1].shape}')"
      ],
      "metadata": {
        "colab": {
          "base_uri": "https://localhost:8080/"
        },
        "id": "5ijQ3yZJgxtM",
        "outputId": "82709741-109b-461a-c9f8-be11dd1eeac8"
      },
      "execution_count": 80,
      "outputs": [
        {
          "output_type": "stream",
          "name": "stdout",
          "text": [
            "data type: <class 'tuple'>\n",
            "number of elements in the tuple: 2\n",
            "shape of first element: (32, 32)\n",
            "shape of second element: (32,)\n"
          ]
        }
      ]
    },
    {
      "cell_type": "code",
      "source": [
        "val_set = windowed_dataset(xval, window_size, batch_size, shuffle_buffer_size)"
      ],
      "metadata": {
        "id": "_TIxbAVOg1Q8"
      },
      "execution_count": 81,
      "outputs": []
    },
    {
      "cell_type": "code",
      "source": [
        "tf.keras.backend.clear_session()\n",
        "\n",
        "# Build the model\n",
        "model = tf.keras.models.Sequential([\n",
        "  layers.Lambda(lambda x: tf.expand_dims(x, axis=-1), input_shape=[None]),\n",
        "  layers.Bidirectional(tf.keras.layers.LSTM(90, return_sequences=True)),\n",
        "  layers.Bidirectional(tf.keras.layers.LSTM(90)),\n",
        "  layers.Dense(1),\n",
        "  layers.Lambda(lambda x: x * 100.0)\n",
        "])\n",
        "model.summary()"
      ],
      "metadata": {
        "colab": {
          "base_uri": "https://localhost:8080/"
        },
        "id": "xKVG2Bhyj8r9",
        "outputId": "04ad6ba2-f17a-4527-ace2-a26d39ef375d"
      },
      "execution_count": 82,
      "outputs": [
        {
          "output_type": "stream",
          "name": "stdout",
          "text": [
            "Model: \"sequential\"\n",
            "_________________________________________________________________\n",
            " Layer (type)                Output Shape              Param #   \n",
            "=================================================================\n",
            " lambda (Lambda)             (None, None, 1)           0         \n",
            "                                                                 \n",
            " bidirectional (Bidirectiona  (None, None, 180)        66240     \n",
            " l)                                                              \n",
            "                                                                 \n",
            " bidirectional_1 (Bidirectio  (None, 180)              195120    \n",
            " nal)                                                            \n",
            "                                                                 \n",
            " dense (Dense)               (None, 1)                 181       \n",
            "                                                                 \n",
            " lambda_1 (Lambda)           (None, 1)                 0         \n",
            "                                                                 \n",
            "=================================================================\n",
            "Total params: 261,541\n",
            "Trainable params: 261,541\n",
            "Non-trainable params: 0\n",
            "_________________________________________________________________\n"
          ]
        }
      ]
    },
    {
      "cell_type": "code",
      "source": [
        "# Set the learning rate scheduler\n",
        "lr_schedule = tf.keras.callbacks.LearningRateScheduler(\n",
        "    lambda epoch: 1e-8 * 10**(epoch / 20))\n",
        "\n",
        "# Initialize the optimizer\n",
        "optimizer = tf.keras.optimizers.SGD(momentum=0.9)\n",
        "\n",
        "# Set the training parameters\n",
        "model.compile(loss=tf.keras.losses.Huber(), optimizer=optimizer)\n",
        "\n",
        "# Train the model\n",
        "history = model.fit(dataset, epochs=100, callbacks=[lr_schedule])\n",
        "\n",
        "# Define the learning rate array\n",
        "lrs = 1e-8 * (10 ** (np.arange(100) / 20))\n",
        "\n",
        "# Set the figure size\n",
        "plt.figure(figsize=(10, 6))\n",
        "\n",
        "# Set the grid\n",
        "plt.grid(True)\n",
        "\n",
        "# Plot the loss in log scale\n",
        "plt.semilogx(lrs, history.history[\"loss\"])\n",
        "\n",
        "# Increase the tickmarks size\n",
        "plt.tick_params('both', length=10, width=1, which='both')\n",
        "\n",
        "# Set the plot boundaries\n",
        "plt.axis([1e-8, 1e-3, 0, 30])"
      ],
      "metadata": {
        "colab": {
          "base_uri": "https://localhost:8080/",
          "height": 1000
        },
        "id": "k2RU97H_jn6c",
        "outputId": "ac921c92-fe93-44b2-fab1-05fd94c003aa"
      },
      "execution_count": 83,
      "outputs": [
        {
          "output_type": "stream",
          "name": "stdout",
          "text": [
            "Epoch 1/100\n",
            "36/36 [==============================] - 9s 110ms/step - loss: 47.3537 - lr: 1.0000e-08\n",
            "Epoch 2/100\n",
            "36/36 [==============================] - 5s 127ms/step - loss: 44.4669 - lr: 1.1220e-08\n",
            "Epoch 3/100\n",
            "36/36 [==============================] - 5s 123ms/step - loss: 40.9810 - lr: 1.2589e-08\n",
            "Epoch 4/100\n",
            "36/36 [==============================] - 4s 113ms/step - loss: 36.9353 - lr: 1.4125e-08\n",
            "Epoch 5/100\n",
            "36/36 [==============================] - 3s 78ms/step - loss: 32.0581 - lr: 1.5849e-08\n",
            "Epoch 6/100\n",
            "36/36 [==============================] - 2s 65ms/step - loss: 26.3088 - lr: 1.7783e-08\n",
            "Epoch 7/100\n",
            "36/36 [==============================] - 2s 65ms/step - loss: 20.1531 - lr: 1.9953e-08\n",
            "Epoch 8/100\n",
            "36/36 [==============================] - 2s 66ms/step - loss: 13.7595 - lr: 2.2387e-08\n",
            "Epoch 9/100\n",
            "36/36 [==============================] - 2s 65ms/step - loss: 9.5549 - lr: 2.5119e-08\n",
            "Epoch 10/100\n",
            "36/36 [==============================] - 2s 65ms/step - loss: 8.6601 - lr: 2.8184e-08\n",
            "Epoch 11/100\n",
            "36/36 [==============================] - 2s 64ms/step - loss: 8.2659 - lr: 3.1623e-08\n",
            "Epoch 12/100\n",
            "36/36 [==============================] - 2s 66ms/step - loss: 7.9107 - lr: 3.5481e-08\n",
            "Epoch 13/100\n",
            "36/36 [==============================] - 4s 114ms/step - loss: 7.5566 - lr: 3.9811e-08\n",
            "Epoch 14/100\n",
            "36/36 [==============================] - 5s 133ms/step - loss: 7.2070 - lr: 4.4668e-08\n",
            "Epoch 15/100\n",
            "36/36 [==============================] - 5s 135ms/step - loss: 6.8437 - lr: 5.0119e-08\n",
            "Epoch 16/100\n",
            "36/36 [==============================] - 2s 66ms/step - loss: 6.4750 - lr: 5.6234e-08\n",
            "Epoch 17/100\n",
            "36/36 [==============================] - 2s 66ms/step - loss: 6.0769 - lr: 6.3096e-08\n",
            "Epoch 18/100\n",
            "36/36 [==============================] - 2s 66ms/step - loss: 5.6862 - lr: 7.0795e-08\n",
            "Epoch 19/100\n",
            "36/36 [==============================] - 2s 65ms/step - loss: 5.2608 - lr: 7.9433e-08\n",
            "Epoch 20/100\n",
            "36/36 [==============================] - 2s 66ms/step - loss: 4.8325 - lr: 8.9125e-08\n",
            "Epoch 21/100\n",
            "36/36 [==============================] - 2s 67ms/step - loss: 4.4253 - lr: 1.0000e-07\n",
            "Epoch 22/100\n",
            "36/36 [==============================] - 2s 65ms/step - loss: 4.0197 - lr: 1.1220e-07\n",
            "Epoch 23/100\n",
            "36/36 [==============================] - 2s 66ms/step - loss: 3.6752 - lr: 1.2589e-07\n",
            "Epoch 24/100\n",
            "36/36 [==============================] - 2s 66ms/step - loss: 3.3282 - lr: 1.4125e-07\n",
            "Epoch 25/100\n",
            "36/36 [==============================] - 2s 66ms/step - loss: 3.0517 - lr: 1.5849e-07\n",
            "Epoch 26/100\n",
            "36/36 [==============================] - 2s 66ms/step - loss: 2.8227 - lr: 1.7783e-07\n",
            "Epoch 27/100\n",
            "36/36 [==============================] - 2s 67ms/step - loss: 2.6239 - lr: 1.9953e-07\n",
            "Epoch 28/100\n",
            "36/36 [==============================] - 2s 66ms/step - loss: 2.5059 - lr: 2.2387e-07\n",
            "Epoch 29/100\n",
            "36/36 [==============================] - 2s 66ms/step - loss: 2.3991 - lr: 2.5119e-07\n",
            "Epoch 30/100\n",
            "36/36 [==============================] - 2s 67ms/step - loss: 2.3022 - lr: 2.8184e-07\n",
            "Epoch 31/100\n",
            "36/36 [==============================] - 2s 66ms/step - loss: 2.2235 - lr: 3.1623e-07\n",
            "Epoch 32/100\n",
            "36/36 [==============================] - 2s 67ms/step - loss: 2.1382 - lr: 3.5481e-07\n",
            "Epoch 33/100\n",
            "36/36 [==============================] - 2s 66ms/step - loss: 2.0210 - lr: 3.9811e-07\n",
            "Epoch 34/100\n",
            "36/36 [==============================] - 2s 67ms/step - loss: 1.9224 - lr: 4.4668e-07\n",
            "Epoch 35/100\n",
            "36/36 [==============================] - 2s 66ms/step - loss: 1.8386 - lr: 5.0119e-07\n",
            "Epoch 36/100\n",
            "36/36 [==============================] - 3s 72ms/step - loss: 1.6571 - lr: 5.6234e-07\n",
            "Epoch 37/100\n",
            "36/36 [==============================] - 2s 66ms/step - loss: 1.5020 - lr: 6.3096e-07\n",
            "Epoch 38/100\n",
            "36/36 [==============================] - 2s 66ms/step - loss: 1.3423 - lr: 7.0795e-07\n",
            "Epoch 39/100\n",
            "36/36 [==============================] - 2s 66ms/step - loss: 1.3134 - lr: 7.9433e-07\n",
            "Epoch 40/100\n",
            "36/36 [==============================] - 3s 80ms/step - loss: 1.2056 - lr: 8.9125e-07\n",
            "Epoch 41/100\n",
            "36/36 [==============================] - 2s 66ms/step - loss: 1.1666 - lr: 1.0000e-06\n",
            "Epoch 42/100\n",
            "36/36 [==============================] - 2s 66ms/step - loss: 1.0554 - lr: 1.1220e-06\n",
            "Epoch 43/100\n",
            "36/36 [==============================] - 2s 65ms/step - loss: 1.1202 - lr: 1.2589e-06\n",
            "Epoch 44/100\n",
            "36/36 [==============================] - 2s 66ms/step - loss: 1.0681 - lr: 1.4125e-06\n",
            "Epoch 45/100\n",
            "36/36 [==============================] - 2s 65ms/step - loss: 1.0627 - lr: 1.5849e-06\n",
            "Epoch 46/100\n",
            "36/36 [==============================] - 2s 66ms/step - loss: 1.0444 - lr: 1.7783e-06\n",
            "Epoch 47/100\n",
            "36/36 [==============================] - 2s 65ms/step - loss: 1.0226 - lr: 1.9953e-06\n",
            "Epoch 48/100\n",
            "36/36 [==============================] - 2s 66ms/step - loss: 1.0928 - lr: 2.2387e-06\n",
            "Epoch 49/100\n",
            "36/36 [==============================] - 2s 66ms/step - loss: 1.1533 - lr: 2.5119e-06\n",
            "Epoch 50/100\n",
            "36/36 [==============================] - 2s 66ms/step - loss: 1.1283 - lr: 2.8184e-06\n",
            "Epoch 51/100\n",
            "36/36 [==============================] - 2s 65ms/step - loss: 1.4545 - lr: 3.1623e-06\n",
            "Epoch 52/100\n",
            "36/36 [==============================] - 2s 65ms/step - loss: 1.6342 - lr: 3.5481e-06\n",
            "Epoch 53/100\n",
            "36/36 [==============================] - 2s 66ms/step - loss: 1.1827 - lr: 3.9811e-06\n",
            "Epoch 54/100\n",
            "36/36 [==============================] - 3s 82ms/step - loss: 1.0582 - lr: 4.4668e-06\n",
            "Epoch 55/100\n",
            "36/36 [==============================] - 2s 66ms/step - loss: 1.0907 - lr: 5.0119e-06\n",
            "Epoch 56/100\n",
            "36/36 [==============================] - 2s 65ms/step - loss: 1.1507 - lr: 5.6234e-06\n",
            "Epoch 57/100\n",
            "36/36 [==============================] - 2s 64ms/step - loss: 1.4274 - lr: 6.3096e-06\n",
            "Epoch 58/100\n",
            "36/36 [==============================] - 2s 65ms/step - loss: 1.9745 - lr: 7.0795e-06\n",
            "Epoch 59/100\n",
            "36/36 [==============================] - 2s 65ms/step - loss: 1.5173 - lr: 7.9433e-06\n",
            "Epoch 60/100\n",
            "36/36 [==============================] - 2s 65ms/step - loss: 1.7914 - lr: 8.9125e-06\n",
            "Epoch 61/100\n",
            "36/36 [==============================] - 2s 65ms/step - loss: 2.2810 - lr: 1.0000e-05\n",
            "Epoch 62/100\n",
            "36/36 [==============================] - 2s 66ms/step - loss: 1.6447 - lr: 1.1220e-05\n",
            "Epoch 63/100\n",
            "36/36 [==============================] - 2s 66ms/step - loss: 1.8798 - lr: 1.2589e-05\n",
            "Epoch 64/100\n",
            "36/36 [==============================] - 2s 65ms/step - loss: 1.4438 - lr: 1.4125e-05\n",
            "Epoch 65/100\n",
            "36/36 [==============================] - 2s 66ms/step - loss: 1.4370 - lr: 1.5849e-05\n",
            "Epoch 66/100\n",
            "36/36 [==============================] - 2s 66ms/step - loss: 1.9516 - lr: 1.7783e-05\n",
            "Epoch 67/100\n",
            "36/36 [==============================] - 2s 65ms/step - loss: 7.2262 - lr: 1.9953e-05\n",
            "Epoch 68/100\n",
            "36/36 [==============================] - 2s 65ms/step - loss: 5.5314 - lr: 2.2387e-05\n",
            "Epoch 69/100\n",
            "36/36 [==============================] - 2s 65ms/step - loss: 3.1596 - lr: 2.5119e-05\n",
            "Epoch 70/100\n",
            "36/36 [==============================] - 2s 66ms/step - loss: 3.6021 - lr: 2.8184e-05\n",
            "Epoch 71/100\n",
            "36/36 [==============================] - 2s 66ms/step - loss: 3.2386 - lr: 3.1623e-05\n",
            "Epoch 72/100\n",
            "36/36 [==============================] - 2s 65ms/step - loss: 6.8437 - lr: 3.5481e-05\n",
            "Epoch 73/100\n",
            "36/36 [==============================] - 2s 66ms/step - loss: 4.6728 - lr: 3.9811e-05\n",
            "Epoch 74/100\n",
            "36/36 [==============================] - 2s 65ms/step - loss: 2.7681 - lr: 4.4668e-05\n",
            "Epoch 75/100\n",
            "36/36 [==============================] - 2s 66ms/step - loss: 8.5915 - lr: 5.0119e-05\n",
            "Epoch 76/100\n",
            "36/36 [==============================] - 2s 66ms/step - loss: 3.6748 - lr: 5.6234e-05\n",
            "Epoch 77/100\n",
            "36/36 [==============================] - 2s 67ms/step - loss: 3.8543 - lr: 6.3096e-05\n",
            "Epoch 78/100\n",
            "36/36 [==============================] - 2s 66ms/step - loss: 3.3025 - lr: 7.0795e-05\n",
            "Epoch 79/100\n",
            "36/36 [==============================] - 2s 66ms/step - loss: 4.6478 - lr: 7.9433e-05\n",
            "Epoch 80/100\n",
            "36/36 [==============================] - 2s 66ms/step - loss: 6.7063 - lr: 8.9125e-05\n",
            "Epoch 81/100\n",
            "36/36 [==============================] - 2s 67ms/step - loss: 5.6091 - lr: 1.0000e-04\n",
            "Epoch 82/100\n",
            "36/36 [==============================] - 2s 66ms/step - loss: 3.1422 - lr: 1.1220e-04\n",
            "Epoch 83/100\n",
            "36/36 [==============================] - 2s 66ms/step - loss: 3.1340 - lr: 1.2589e-04\n",
            "Epoch 84/100\n",
            "36/36 [==============================] - 2s 65ms/step - loss: 1.8915 - lr: 1.4125e-04\n",
            "Epoch 85/100\n",
            "36/36 [==============================] - 2s 65ms/step - loss: 2.9980 - lr: 1.5849e-04\n",
            "Epoch 86/100\n",
            "36/36 [==============================] - 2s 66ms/step - loss: 3.3760 - lr: 1.7783e-04\n",
            "Epoch 87/100\n",
            "36/36 [==============================] - 2s 66ms/step - loss: 2.5145 - lr: 1.9953e-04\n",
            "Epoch 88/100\n",
            "36/36 [==============================] - 2s 65ms/step - loss: 2.2791 - lr: 2.2387e-04\n",
            "Epoch 89/100\n",
            "36/36 [==============================] - 2s 65ms/step - loss: 1.3799 - lr: 2.5119e-04\n",
            "Epoch 90/100\n",
            "36/36 [==============================] - 2s 66ms/step - loss: 2.2669 - lr: 2.8184e-04\n",
            "Epoch 91/100\n",
            "36/36 [==============================] - 2s 66ms/step - loss: 1.7694 - lr: 3.1623e-04\n",
            "Epoch 92/100\n",
            "36/36 [==============================] - 2s 65ms/step - loss: 2.0159 - lr: 3.5481e-04\n",
            "Epoch 93/100\n",
            "36/36 [==============================] - 2s 65ms/step - loss: 1.4059 - lr: 3.9811e-04\n",
            "Epoch 94/100\n",
            "36/36 [==============================] - 2s 66ms/step - loss: 3.0842 - lr: 4.4668e-04\n",
            "Epoch 95/100\n",
            "36/36 [==============================] - 2s 65ms/step - loss: 1.9745 - lr: 5.0119e-04\n",
            "Epoch 96/100\n",
            "36/36 [==============================] - 2s 66ms/step - loss: 2.1783 - lr: 5.6234e-04\n",
            "Epoch 97/100\n",
            "36/36 [==============================] - 2s 66ms/step - loss: 2.2004 - lr: 6.3096e-04\n",
            "Epoch 98/100\n",
            "36/36 [==============================] - 2s 65ms/step - loss: 3.1500 - lr: 7.0795e-04\n",
            "Epoch 99/100\n",
            "36/36 [==============================] - 2s 66ms/step - loss: 4.1093 - lr: 7.9433e-04\n",
            "Epoch 100/100\n",
            "36/36 [==============================] - 2s 65ms/step - loss: 3.6643 - lr: 8.9125e-04\n"
          ]
        },
        {
          "output_type": "execute_result",
          "data": {
            "text/plain": [
              "(1e-08, 0.001, 0.0, 30.0)"
            ]
          },
          "metadata": {},
          "execution_count": 83
        },
        {
          "output_type": "display_data",
          "data": {
            "text/plain": [
              "<Figure size 720x432 with 1 Axes>"
            ],
            "image/png": "[encoded data removed]"
          },
          "metadata": {
            "needs_background": "light"
          }
        }
      ]
    },
    {
      "cell_type": "code",
      "source": [
        "learning_rate = 5e-6\n",
        "\n",
        "model.compile(loss=tf.keras.losses.Huber(),\n",
        "              optimizer='adam',\n",
        "              metrics=[\"mae\", \"mse\"])\n",
        "\n",
        "history = model.fit(dataset, epochs=100, validation_data=val_set)"
      ],
      "metadata": {
        "colab": {
          "base_uri": "https://localhost:8080/"
        },
        "id": "elVfmx3ghPS1",
        "outputId": "8874d767-322b-415e-9629-8c81def98f45"
      },
      "execution_count": 85,
      "outputs": [
        {
          "output_type": "stream",
          "name": "stdout",
          "text": [
            "Epoch 1/100\n",
            "36/36 [==============================] - 9s 103ms/step - loss: 0.8691 - mae: 1.2796 - mse: 2.7955 - val_loss: 1.0649 - val_mae: 1.5042 - val_mse: 3.4956\n",
            "Epoch 2/100\n",
            "36/36 [==============================] - 3s 69ms/step - loss: 0.8449 - mae: 1.2540 - mse: 2.7210 - val_loss: 0.8923 - val_mae: 1.3035 - val_mse: 2.8913\n",
            "Epoch 3/100\n",
            "36/36 [==============================] - 3s 70ms/step - loss: 0.8194 - mae: 1.2239 - mse: 2.6216 - val_loss: 0.8622 - val_mae: 1.2727 - val_mse: 2.8193\n",
            "Epoch 4/100\n",
            "36/36 [==============================] - 3s 71ms/step - loss: 0.8514 - mae: 1.2616 - mse: 2.7693 - val_loss: 0.8293 - val_mae: 1.2327 - val_mse: 2.6699\n",
            "Epoch 5/100\n",
            "36/36 [==============================] - 3s 72ms/step - loss: 0.8093 - mae: 1.2172 - mse: 2.5939 - val_loss: 0.8480 - val_mae: 1.2526 - val_mse: 2.6988\n",
            "Epoch 6/100\n",
            "36/36 [==============================] - 3s 70ms/step - loss: 0.8208 - mae: 1.2261 - mse: 2.6583 - val_loss: 0.8334 - val_mae: 1.2377 - val_mse: 2.6504\n",
            "Epoch 7/100\n",
            "36/36 [==============================] - 3s 71ms/step - loss: 0.8493 - mae: 1.2606 - mse: 2.7442 - val_loss: 0.9491 - val_mae: 1.3775 - val_mse: 3.1775\n",
            "Epoch 8/100\n",
            "36/36 [==============================] - 3s 71ms/step - loss: 0.8434 - mae: 1.2475 - mse: 2.7327 - val_loss: 0.8139 - val_mae: 1.2058 - val_mse: 2.6276\n",
            "Epoch 9/100\n",
            "36/36 [==============================] - 3s 71ms/step - loss: 0.8526 - mae: 1.2647 - mse: 2.7649 - val_loss: 0.9790 - val_mae: 1.4019 - val_mse: 3.1536\n",
            "Epoch 10/100\n",
            "36/36 [==============================] - 3s 71ms/step - loss: 0.8350 - mae: 1.2385 - mse: 2.7090 - val_loss: 0.8367 - val_mae: 1.2415 - val_mse: 2.6552\n",
            "Epoch 11/100\n",
            "36/36 [==============================] - 3s 71ms/step - loss: 0.8214 - mae: 1.2314 - mse: 2.6470 - val_loss: 0.8267 - val_mae: 1.2313 - val_mse: 2.6342\n",
            "Epoch 12/100\n",
            "36/36 [==============================] - 3s 71ms/step - loss: 0.8077 - mae: 1.2099 - mse: 2.5762 - val_loss: 0.8239 - val_mae: 1.2275 - val_mse: 2.6429\n",
            "Epoch 13/100\n",
            "36/36 [==============================] - 3s 72ms/step - loss: 0.8139 - mae: 1.2166 - mse: 2.6068 - val_loss: 0.9033 - val_mae: 1.3206 - val_mse: 2.9889\n",
            "Epoch 14/100\n",
            "36/36 [==============================] - 3s 70ms/step - loss: 0.8497 - mae: 1.2618 - mse: 2.7612 - val_loss: 0.8245 - val_mae: 1.2220 - val_mse: 2.6724\n",
            "Epoch 15/100\n",
            "36/36 [==============================] - 3s 72ms/step - loss: 0.8099 - mae: 1.2126 - mse: 2.6146 - val_loss: 0.9442 - val_mae: 1.3603 - val_mse: 3.0283\n",
            "Epoch 16/100\n",
            "36/36 [==============================] - 3s 71ms/step - loss: 0.8258 - mae: 1.2295 - mse: 2.6797 - val_loss: 0.8653 - val_mae: 1.2842 - val_mse: 2.7352\n",
            "Epoch 17/100\n",
            "36/36 [==============================] - 3s 71ms/step - loss: 0.8329 - mae: 1.2471 - mse: 2.6605 - val_loss: 1.0182 - val_mae: 1.4485 - val_mse: 3.4461\n",
            "Epoch 18/100\n",
            "36/36 [==============================] - 3s 71ms/step - loss: 0.8403 - mae: 1.2498 - mse: 2.7258 - val_loss: 0.9662 - val_mae: 1.3986 - val_mse: 3.0854\n",
            "Epoch 19/100\n",
            "36/36 [==============================] - 3s 71ms/step - loss: 0.8074 - mae: 1.2134 - mse: 2.5842 - val_loss: 0.9154 - val_mae: 1.3290 - val_mse: 2.9224\n",
            "Epoch 20/100\n",
            "36/36 [==============================] - 3s 71ms/step - loss: 0.8093 - mae: 1.2114 - mse: 2.6267 - val_loss: 0.8200 - val_mae: 1.2178 - val_mse: 2.6102\n",
            "Epoch 21/100\n",
            "36/36 [==============================] - 3s 71ms/step - loss: 0.8433 - mae: 1.2534 - mse: 2.7056 - val_loss: 0.8622 - val_mae: 1.2724 - val_mse: 2.8622\n",
            "Epoch 22/100\n",
            "36/36 [==============================] - 3s 71ms/step - loss: 0.8084 - mae: 1.2100 - mse: 2.6228 - val_loss: 0.8397 - val_mae: 1.2423 - val_mse: 2.7427\n",
            "Epoch 23/100\n",
            "36/36 [==============================] - 3s 72ms/step - loss: 0.8022 - mae: 1.2017 - mse: 2.5891 - val_loss: 0.9281 - val_mae: 1.3431 - val_mse: 2.9679\n",
            "Epoch 24/100\n",
            "36/36 [==============================] - 3s 71ms/step - loss: 0.8839 - mae: 1.3028 - mse: 2.8896 - val_loss: 0.8834 - val_mae: 1.2977 - val_mse: 2.8757\n",
            "Epoch 25/100\n",
            "36/36 [==============================] - 3s 70ms/step - loss: 0.8540 - mae: 1.2659 - mse: 2.7328 - val_loss: 0.8834 - val_mae: 1.3073 - val_mse: 2.7832\n",
            "Epoch 26/100\n",
            "36/36 [==============================] - 3s 71ms/step - loss: 0.8257 - mae: 1.2315 - mse: 2.6385 - val_loss: 0.8526 - val_mae: 1.2601 - val_mse: 2.8142\n",
            "Epoch 27/100\n",
            "36/36 [==============================] - 3s 73ms/step - loss: 0.8004 - mae: 1.2042 - mse: 2.5473 - val_loss: 0.8440 - val_mae: 1.2521 - val_mse: 2.6900\n",
            "Epoch 28/100\n",
            "36/36 [==============================] - 3s 71ms/step - loss: 0.7996 - mae: 1.2032 - mse: 2.5572 - val_loss: 0.8420 - val_mae: 1.2414 - val_mse: 2.6925\n",
            "Epoch 29/100\n",
            "36/36 [==============================] - 3s 71ms/step - loss: 0.8393 - mae: 1.2429 - mse: 2.7126 - val_loss: 0.8402 - val_mae: 1.2390 - val_mse: 2.6759\n",
            "Epoch 30/100\n",
            "36/36 [==============================] - 3s 71ms/step - loss: 0.8302 - mae: 1.2356 - mse: 2.6691 - val_loss: 0.8291 - val_mae: 1.2322 - val_mse: 2.6471\n",
            "Epoch 31/100\n",
            "36/36 [==============================] - 3s 71ms/step - loss: 0.8263 - mae: 1.2320 - mse: 2.6459 - val_loss: 0.8257 - val_mae: 1.2212 - val_mse: 2.6327\n",
            "Epoch 32/100\n",
            "36/36 [==============================] - 3s 72ms/step - loss: 0.8455 - mae: 1.2518 - mse: 2.7668 - val_loss: 0.8638 - val_mae: 1.2780 - val_mse: 2.7253\n",
            "Epoch 33/100\n",
            "36/36 [==============================] - 3s 81ms/step - loss: 0.8080 - mae: 1.2095 - mse: 2.6098 - val_loss: 0.8191 - val_mae: 1.2227 - val_mse: 2.6061\n",
            "Epoch 34/100\n",
            "36/36 [==============================] - 3s 78ms/step - loss: 0.8054 - mae: 1.2065 - mse: 2.5575 - val_loss: 0.8306 - val_mae: 1.2239 - val_mse: 2.7633\n",
            "Epoch 35/100\n",
            "36/36 [==============================] - 3s 74ms/step - loss: 0.8463 - mae: 1.2588 - mse: 2.7380 - val_loss: 0.8129 - val_mae: 1.2017 - val_mse: 2.7159\n",
            "Epoch 36/100\n",
            "36/36 [==============================] - 3s 74ms/step - loss: 0.8246 - mae: 1.2332 - mse: 2.6508 - val_loss: 0.8400 - val_mae: 1.2484 - val_mse: 2.7032\n",
            "Epoch 37/100\n",
            "36/36 [==============================] - 3s 75ms/step - loss: 0.8289 - mae: 1.2370 - mse: 2.6762 - val_loss: 0.8439 - val_mae: 1.2441 - val_mse: 2.6886\n",
            "Epoch 38/100\n",
            "36/36 [==============================] - 3s 75ms/step - loss: 0.8377 - mae: 1.2491 - mse: 2.6968 - val_loss: 0.8742 - val_mae: 1.2816 - val_mse: 2.7862\n",
            "Epoch 39/100\n",
            "36/36 [==============================] - 3s 74ms/step - loss: 0.8015 - mae: 1.2020 - mse: 2.5571 - val_loss: 0.8354 - val_mae: 1.2399 - val_mse: 2.7028\n",
            "Epoch 40/100\n",
            "36/36 [==============================] - 3s 74ms/step - loss: 0.8194 - mae: 1.2274 - mse: 2.6774 - val_loss: 0.8771 - val_mae: 1.2966 - val_mse: 2.7741\n",
            "Epoch 41/100\n",
            "36/36 [==============================] - 3s 74ms/step - loss: 0.8158 - mae: 1.2208 - mse: 2.6006 - val_loss: 0.8090 - val_mae: 1.1990 - val_mse: 2.6111\n",
            "Epoch 42/100\n",
            "36/36 [==============================] - 3s 75ms/step - loss: 0.8145 - mae: 1.2214 - mse: 2.6051 - val_loss: 0.8961 - val_mae: 1.3085 - val_mse: 2.8547\n",
            "Epoch 43/100\n",
            "36/36 [==============================] - 3s 74ms/step - loss: 0.7998 - mae: 1.2032 - mse: 2.5598 - val_loss: 0.8669 - val_mae: 1.2741 - val_mse: 2.7517\n",
            "Epoch 44/100\n",
            "36/36 [==============================] - 3s 74ms/step - loss: 0.8490 - mae: 1.2605 - mse: 2.7224 - val_loss: 0.8238 - val_mae: 1.2228 - val_mse: 2.6232\n",
            "Epoch 45/100\n",
            "36/36 [==============================] - 3s 75ms/step - loss: 0.7897 - mae: 1.1908 - mse: 2.5612 - val_loss: 0.8173 - val_mae: 1.2186 - val_mse: 2.6664\n",
            "Epoch 46/100\n",
            "36/36 [==============================] - 3s 75ms/step - loss: 0.7920 - mae: 1.1927 - mse: 2.5410 - val_loss: 0.8704 - val_mae: 1.2863 - val_mse: 2.8179\n",
            "Epoch 47/100\n",
            "36/36 [==============================] - 3s 75ms/step - loss: 0.8164 - mae: 1.2179 - mse: 2.6542 - val_loss: 0.8519 - val_mae: 1.2663 - val_mse: 2.7164\n",
            "Epoch 48/100\n",
            "36/36 [==============================] - 3s 76ms/step - loss: 0.7938 - mae: 1.1921 - mse: 2.5666 - val_loss: 0.9102 - val_mae: 1.3385 - val_mse: 2.8804\n",
            "Epoch 49/100\n",
            "36/36 [==============================] - 3s 74ms/step - loss: 0.8305 - mae: 1.2363 - mse: 2.6635 - val_loss: 0.8462 - val_mae: 1.2552 - val_mse: 2.7484\n",
            "Epoch 50/100\n",
            "36/36 [==============================] - 3s 75ms/step - loss: 0.8126 - mae: 1.2174 - mse: 2.6294 - val_loss: 0.8527 - val_mae: 1.2526 - val_mse: 2.7589\n",
            "Epoch 51/100\n",
            "36/36 [==============================] - 3s 75ms/step - loss: 0.8162 - mae: 1.2159 - mse: 2.6791 - val_loss: 0.8384 - val_mae: 1.2478 - val_mse: 2.6466\n",
            "Epoch 52/100\n",
            "36/36 [==============================] - 3s 75ms/step - loss: 0.7975 - mae: 1.1967 - mse: 2.5797 - val_loss: 0.8737 - val_mae: 1.2900 - val_mse: 2.7884\n",
            "Epoch 53/100\n",
            "36/36 [==============================] - 3s 76ms/step - loss: 0.8127 - mae: 1.2193 - mse: 2.6632 - val_loss: 0.8263 - val_mae: 1.2170 - val_mse: 2.7687\n",
            "Epoch 54/100\n",
            "36/36 [==============================] - 3s 75ms/step - loss: 0.7925 - mae: 1.1926 - mse: 2.5610 - val_loss: 0.8846 - val_mae: 1.2993 - val_mse: 3.0075\n",
            "Epoch 55/100\n",
            "36/36 [==============================] - 3s 74ms/step - loss: 0.8007 - mae: 1.1950 - mse: 2.5994 - val_loss: 0.9132 - val_mae: 1.3286 - val_mse: 3.1153\n",
            "Epoch 56/100\n",
            "36/36 [==============================] - 3s 75ms/step - loss: 0.7938 - mae: 1.1954 - mse: 2.5578 - val_loss: 0.9020 - val_mae: 1.3228 - val_mse: 2.8741\n",
            "Epoch 57/100\n",
            "36/36 [==============================] - 3s 75ms/step - loss: 0.7991 - mae: 1.2006 - mse: 2.5859 - val_loss: 0.8529 - val_mae: 1.2592 - val_mse: 2.7145\n",
            "Epoch 58/100\n",
            "36/36 [==============================] - 3s 75ms/step - loss: 0.8006 - mae: 1.2046 - mse: 2.5369 - val_loss: 0.8475 - val_mae: 1.2513 - val_mse: 2.8316\n",
            "Epoch 59/100\n",
            "36/36 [==============================] - 3s 75ms/step - loss: 0.7938 - mae: 1.1906 - mse: 2.5649 - val_loss: 0.8553 - val_mae: 1.2692 - val_mse: 2.7892\n",
            "Epoch 60/100\n",
            "36/36 [==============================] - 3s 75ms/step - loss: 0.8064 - mae: 1.2105 - mse: 2.6099 - val_loss: 0.8272 - val_mae: 1.2276 - val_mse: 2.6770\n",
            "Epoch 61/100\n",
            "36/36 [==============================] - 3s 83ms/step - loss: 0.8068 - mae: 1.2085 - mse: 2.6454 - val_loss: 1.0736 - val_mae: 1.4948 - val_mse: 3.5264\n",
            "Epoch 62/100\n",
            "36/36 [==============================] - 3s 75ms/step - loss: 0.8017 - mae: 1.2056 - mse: 2.5671 - val_loss: 0.8683 - val_mae: 1.2802 - val_mse: 2.7862\n",
            "Epoch 63/100\n",
            "36/36 [==============================] - 3s 74ms/step - loss: 0.7914 - mae: 1.1945 - mse: 2.5630 - val_loss: 0.8393 - val_mae: 1.2410 - val_mse: 2.6943\n",
            "Epoch 64/100\n",
            "36/36 [==============================] - 3s 75ms/step - loss: 0.7780 - mae: 1.1775 - mse: 2.4734 - val_loss: 0.8362 - val_mae: 1.2408 - val_mse: 2.7662\n",
            "Epoch 65/100\n",
            "36/36 [==============================] - 3s 74ms/step - loss: 0.7958 - mae: 1.1981 - mse: 2.5490 - val_loss: 0.8354 - val_mae: 1.2322 - val_mse: 2.6726\n",
            "Epoch 66/100\n",
            "36/36 [==============================] - 3s 74ms/step - loss: 0.7856 - mae: 1.1865 - mse: 2.5308 - val_loss: 0.8338 - val_mae: 1.2371 - val_mse: 2.7488\n",
            "Epoch 67/100\n",
            "36/36 [==============================] - 3s 75ms/step - loss: 0.7862 - mae: 1.1869 - mse: 2.5534 - val_loss: 0.8796 - val_mae: 1.2894 - val_mse: 2.7906\n",
            "Epoch 68/100\n",
            "36/36 [==============================] - 3s 74ms/step - loss: 0.7758 - mae: 1.1762 - mse: 2.5006 - val_loss: 0.8808 - val_mae: 1.2963 - val_mse: 2.8871\n",
            "Epoch 69/100\n",
            "36/36 [==============================] - 3s 75ms/step - loss: 0.7840 - mae: 1.1859 - mse: 2.4988 - val_loss: 0.8669 - val_mae: 1.2709 - val_mse: 2.8384\n",
            "Epoch 70/100\n",
            "36/36 [==============================] - 3s 74ms/step - loss: 0.8106 - mae: 1.2145 - mse: 2.6673 - val_loss: 0.8740 - val_mae: 1.2919 - val_mse: 2.7975\n",
            "Epoch 71/100\n",
            "36/36 [==============================] - 3s 73ms/step - loss: 0.7840 - mae: 1.1882 - mse: 2.5110 - val_loss: 0.8534 - val_mae: 1.2602 - val_mse: 2.8376\n",
            "Epoch 72/100\n",
            "36/36 [==============================] - 3s 74ms/step - loss: 0.7878 - mae: 1.1874 - mse: 2.5127 - val_loss: 0.8664 - val_mae: 1.2838 - val_mse: 2.7464\n",
            "Epoch 73/100\n",
            "36/36 [==============================] - 3s 75ms/step - loss: 0.7820 - mae: 1.1842 - mse: 2.4999 - val_loss: 0.8666 - val_mae: 1.2813 - val_mse: 2.8050\n",
            "Epoch 74/100\n",
            "36/36 [==============================] - 3s 75ms/step - loss: 0.7821 - mae: 1.1824 - mse: 2.4935 - val_loss: 0.8556 - val_mae: 1.2653 - val_mse: 2.7305\n",
            "Epoch 75/100\n",
            "36/36 [==============================] - 3s 75ms/step - loss: 0.7947 - mae: 1.1993 - mse: 2.5444 - val_loss: 1.1279 - val_mae: 1.5570 - val_mse: 3.7229\n",
            "Epoch 76/100\n",
            "36/36 [==============================] - 3s 75ms/step - loss: 0.8375 - mae: 1.2408 - mse: 2.7332 - val_loss: 0.8508 - val_mae: 1.2625 - val_mse: 2.7402\n",
            "Epoch 77/100\n",
            "36/36 [==============================] - 3s 76ms/step - loss: 0.7769 - mae: 1.1781 - mse: 2.4967 - val_loss: 0.8813 - val_mae: 1.2885 - val_mse: 3.0344\n",
            "Epoch 78/100\n",
            "36/36 [==============================] - 3s 75ms/step - loss: 0.8073 - mae: 1.2145 - mse: 2.5959 - val_loss: 0.8480 - val_mae: 1.2579 - val_mse: 2.7039\n",
            "Epoch 79/100\n",
            "36/36 [==============================] - 3s 74ms/step - loss: 0.7887 - mae: 1.1933 - mse: 2.5199 - val_loss: 0.8740 - val_mae: 1.2857 - val_mse: 2.8434\n",
            "Epoch 80/100\n",
            "36/36 [==============================] - 3s 75ms/step - loss: 0.7977 - mae: 1.2032 - mse: 2.5533 - val_loss: 0.8335 - val_mae: 1.2416 - val_mse: 2.6457\n",
            "Epoch 81/100\n",
            "36/36 [==============================] - 3s 74ms/step - loss: 0.7911 - mae: 1.1937 - mse: 2.5444 - val_loss: 0.8373 - val_mae: 1.2410 - val_mse: 2.8016\n",
            "Epoch 82/100\n",
            "36/36 [==============================] - 3s 74ms/step - loss: 0.7697 - mae: 1.1716 - mse: 2.4712 - val_loss: 0.8495 - val_mae: 1.2574 - val_mse: 2.7921\n",
            "Epoch 83/100\n",
            "36/36 [==============================] - 3s 75ms/step - loss: 0.8162 - mae: 1.2230 - mse: 2.6200 - val_loss: 0.8587 - val_mae: 1.2737 - val_mse: 2.7080\n",
            "Epoch 84/100\n",
            "36/36 [==============================] - 3s 75ms/step - loss: 0.7936 - mae: 1.1972 - mse: 2.6184 - val_loss: 0.8593 - val_mae: 1.2735 - val_mse: 2.7225\n",
            "Epoch 85/100\n",
            "36/36 [==============================] - 3s 74ms/step - loss: 0.7762 - mae: 1.1769 - mse: 2.4939 - val_loss: 0.8449 - val_mae: 1.2517 - val_mse: 2.6828\n",
            "Epoch 86/100\n",
            "36/36 [==============================] - 3s 74ms/step - loss: 0.7678 - mae: 1.1673 - mse: 2.4702 - val_loss: 0.8635 - val_mae: 1.2731 - val_mse: 2.8385\n",
            "Epoch 87/100\n",
            "36/36 [==============================] - 3s 75ms/step - loss: 0.7855 - mae: 1.1895 - mse: 2.5352 - val_loss: 0.8349 - val_mae: 1.2463 - val_mse: 2.6550\n",
            "Epoch 88/100\n",
            "36/36 [==============================] - 3s 74ms/step - loss: 0.7879 - mae: 1.1950 - mse: 2.5318 - val_loss: 0.9586 - val_mae: 1.3830 - val_mse: 3.0326\n",
            "Epoch 89/100\n",
            "36/36 [==============================] - 3s 75ms/step - loss: 0.7930 - mae: 1.1963 - mse: 2.5407 - val_loss: 0.8169 - val_mae: 1.2213 - val_mse: 2.6289\n",
            "Epoch 90/100\n",
            "36/36 [==============================] - 3s 75ms/step - loss: 0.7721 - mae: 1.1740 - mse: 2.4683 - val_loss: 0.8345 - val_mae: 1.2395 - val_mse: 2.7350\n",
            "Epoch 91/100\n",
            "36/36 [==============================] - 3s 75ms/step - loss: 0.7805 - mae: 1.1753 - mse: 2.5711 - val_loss: 0.9038 - val_mae: 1.3226 - val_mse: 3.0164\n",
            "Epoch 92/100\n",
            "36/36 [==============================] - 3s 75ms/step - loss: 0.7741 - mae: 1.1751 - mse: 2.4987 - val_loss: 0.8511 - val_mae: 1.2632 - val_mse: 2.6980\n",
            "Epoch 93/100\n",
            "36/36 [==============================] - 3s 74ms/step - loss: 0.7564 - mae: 1.1544 - mse: 2.4325 - val_loss: 0.8417 - val_mae: 1.2493 - val_mse: 2.8011\n",
            "Epoch 94/100\n",
            "36/36 [==============================] - 3s 76ms/step - loss: 0.7729 - mae: 1.1700 - mse: 2.4891 - val_loss: 0.8395 - val_mae: 1.2440 - val_mse: 2.8093\n",
            "Epoch 95/100\n",
            "36/36 [==============================] - 3s 75ms/step - loss: 0.7665 - mae: 1.1688 - mse: 2.4571 - val_loss: 0.8314 - val_mae: 1.2425 - val_mse: 2.7016\n",
            "Epoch 96/100\n",
            "36/36 [==============================] - 3s 75ms/step - loss: 0.7760 - mae: 1.1804 - mse: 2.4624 - val_loss: 0.8244 - val_mae: 1.2297 - val_mse: 2.6593\n",
            "Epoch 97/100\n",
            "36/36 [==============================] - 4s 96ms/step - loss: 0.7756 - mae: 1.1764 - mse: 2.4933 - val_loss: 0.8407 - val_mae: 1.2532 - val_mse: 2.7648\n",
            "Epoch 98/100\n",
            "36/36 [==============================] - 3s 76ms/step - loss: 0.7732 - mae: 1.1720 - mse: 2.5163 - val_loss: 0.8430 - val_mae: 1.2436 - val_mse: 2.7810\n",
            "Epoch 99/100\n",
            "36/36 [==============================] - 3s 74ms/step - loss: 0.7574 - mae: 1.1531 - mse: 2.4075 - val_loss: 0.8435 - val_mae: 1.2548 - val_mse: 2.6953\n",
            "Epoch 100/100\n",
            "36/36 [==============================] - 3s 75ms/step - loss: 0.7470 - mae: 1.1440 - mse: 2.3834 - val_loss: 0.8900 - val_mae: 1.3042 - val_mse: 3.0386\n"
          ]
        }
      ]
    },
    {
      "cell_type": "code",
      "source": [
        "def model_forecast(model, series, window_size, batch_size):\n",
        "\n",
        "    # Generate a TF Dataset from the series values\n",
        "    dataset = tf.data.Dataset.from_tensor_slices(series)\n",
        "\n",
        "    # Window the data but only take those with the specified size\n",
        "    dataset = dataset.window(window_size, shift=1, drop_remainder=True)\n",
        "\n",
        "    # Flatten the windows by putting its elements in a single batch\n",
        "    dataset = dataset.flat_map(lambda w: w.batch(window_size))\n",
        "    \n",
        "    # Create batches of windows\n",
        "    dataset = dataset.batch(batch_size).prefetch(1)\n",
        "    \n",
        "    # Get predictions on the entire dataset\n",
        "    forecast = model.predict(dataset)\n",
        "    \n",
        "    return forecast"
      ],
      "metadata": {
        "id": "6-oIVnB3hU6s"
      },
      "execution_count": 86,
      "outputs": []
    },
    {
      "cell_type": "code",
      "source": [
        "# Reduce the original series\n",
        "forecast_series = train_dataset['meantemp'][window_size:-1]\n",
        "\n",
        "# Use helper function to generate predictions\n",
        "forecast = model_forecast(model, forecast_series, window_size, batch_size)\n",
        "\n",
        "# Drop single dimensional axis\n",
        "results = forecast.squeeze()\n",
        "\n",
        "# Plot the results\n",
        "plt.plot(results, color='red')\n",
        "plt.plot(xtrain.values, color='blue')"
      ],
      "metadata": {
        "colab": {
          "base_uri": "https://localhost:8080/",
          "height": 283
        },
        "id": "xEvmw_zChk9U",
        "outputId": "7e0c4881-4b31-472f-92fb-74d5638c7c3c"
      },
      "execution_count": 87,
      "outputs": [
        {
          "output_type": "execute_result",
          "data": {
            "text/plain": [
              "[<matplotlib.lines.Line2D at 0x7f93aaec1d90>]"
            ]
          },
          "metadata": {},
          "execution_count": 87
        },
        {
          "output_type": "display_data",
          "data": {
            "text/plain": [
              "<Figure size 432x288 with 1 Axes>"
            ],
            "image/png": "[encoded data removed]"
          },
          "metadata": {
            "needs_background": "light"
          }
        }
      ]
    },
    {
      "cell_type": "code",
      "source": [
        "forecast_series = train_dataset['meantemp'][num_train-window_size:-1]\n",
        "\n",
        "# Use helper function to generate predictions\n",
        "forecast = model_forecast(model, forecast_series, window_size, batch_size)\n",
        "\n",
        "# Drop single dimensional axis\n",
        "results = forecast.squeeze()\n",
        "\n",
        "# Plot the results\n",
        "plt.plot(results, color='red')\n",
        "plt.plot(xval.values, color='blue')"
      ],
      "metadata": {
        "colab": {
          "base_uri": "https://localhost:8080/",
          "height": 284
        },
        "id": "NFY9V_mapV61",
        "outputId": "b39b29d2-6c2a-44ad-97f9-85f719cf6f06"
      },
      "execution_count": 88,
      "outputs": [
        {
          "output_type": "execute_result",
          "data": {
            "text/plain": [
              "[<matplotlib.lines.Line2D at 0x7f93a642be50>]"
            ]
          },
          "metadata": {},
          "execution_count": 88
        },
        {
          "output_type": "display_data",
          "data": {
            "text/plain": [
              "<Figure size 432x288 with 1 Axes>"
            ],
            "image/png": "[encoded data removed]"
          },
          "metadata": {
            "needs_background": "light"
          }
        }
      ]
    },
    {
      "cell_type": "code",
      "source": [
        "test_dataset = pd.read_csv('DailyDelhiClimateTest.csv')\n",
        "xtest = test_dataset['meantemp']"
      ],
      "metadata": {
        "id": "TSdQ2IMLppbY"
      },
      "execution_count": 89,
      "outputs": []
    },
    {
      "cell_type": "code",
      "source": [
        "forecast_series = test_dataset['meantemp']\n",
        "\n",
        "# Use helper function to generate predictions\n",
        "forecast = model_forecast(model=model, series=forecast_series, window_size=1, batch_size=batch_size)\n",
        "\n",
        "# Drop single dimensional axis\n",
        "results = forecast.squeeze()\n",
        "\n",
        "# Plot the results\n",
        "plt.plot(results, color='red')\n",
        "plt.plot(xtest, color='blue')"
      ],
      "metadata": {
        "colab": {
          "base_uri": "https://localhost:8080/",
          "height": 282
        },
        "id": "I6IJYC8Wp4HG",
        "outputId": "cf6cc411-4b7f-4f10-ffe8-28b831b1836e"
      },
      "execution_count": 99,
      "outputs": [
        {
          "output_type": "execute_result",
          "data": {
            "text/plain": [
              "[<matplotlib.lines.Line2D at 0x7f93a21ea950>]"
            ]
          },
          "metadata": {},
          "execution_count": 99
        },
        {
          "output_type": "display_data",
          "data": {
            "text/plain": [
              "<Figure size 432x288 with 1 Axes>"
            ],
            "image/png": "[encoded data removed]"
          },
          "metadata": {
            "needs_background": "light"
          }
        }
      ]
    },
    {
      "cell_type": "code",
      "source": [
        "print(tf.keras.metrics.mean_squared_error(xtest, results).numpy())\n",
        "print(tf.keras.metrics.mean_absolute_error(xtest, results).numpy())"
      ],
      "metadata": {
        "colab": {
          "base_uri": "https://localhost:8080/"
        },
        "id": "hmeALtg5iQQU",
        "outputId": "1a14388e-833f-42a3-c7ef-20a2dbec567b"
      },
      "execution_count": 100,
      "outputs": [
        {
          "output_type": "stream",
          "name": "stdout",
          "text": [
            "25.547972\n",
            "4.982974\n"
          ]
        }
      ]
    },
    {
      "cell_type": "code",
      "source": [],
      "metadata": {
        "id": "cj-JBPC4jNxN"
      },
      "execution_count": null,
      "outputs": []
    },
    {
      "cell_type": "code",
      "source": [
        "def plot_graphs(history, string):\n",
        "  plt.plot(history.history[string][10:])\n",
        "  plt.plot(history.history['val_'+string][10:])\n",
        "  plt.xlabel(\"Epochs\")\n",
        "  plt.ylabel(string)\n",
        "  plt.legend([string, 'val_'+string])\n",
        "  plt.show()"
      ],
      "metadata": {
        "id": "3KKrFMR5i4cF"
      },
      "execution_count": 101,
      "outputs": []
    },
    {
      "cell_type": "markdown",
      "source": [],
      "metadata": {
        "id": "lMsM3CmSuvbW"
      }
    },
    {
      "cell_type": "code",
      "source": [
        "history.history.keys()"
      ],
      "metadata": {
        "colab": {
          "base_uri": "https://localhost:8080/"
        },
        "id": "PN6u3xJNjezc",
        "outputId": "1cf2f7f1-0272-425e-b5b2-fae1d1a28a8d"
      },
      "execution_count": 102,
      "outputs": [
        {
          "output_type": "execute_result",
          "data": {
            "text/plain": [
              "dict_keys(['loss', 'mae', 'mse', 'val_loss', 'val_mae', 'val_mse'])"
            ]
          },
          "metadata": {},
          "execution_count": 102
        }
      ]
    },
    {
      "cell_type": "code",
      "source": [
        "plot_graphs(history, 'mae')\n",
        "plot_graphs(history, 'loss')\n",
        "plot_graphs(history, 'mse')"
      ],
      "metadata": {
        "colab": {
          "base_uri": "https://localhost:8080/",
          "height": 803
        },
        "id": "43ACTeA_jUN9",
        "outputId": "144d7a70-6977-46f4-a512-52ed9d2b5fc0"
      },
      "execution_count": 103,
      "outputs": [
        {
          "output_type": "display_data",
          "data": {
            "text/plain": [
              "<Figure size 432x288 with 1 Axes>"
            ],
            "image/png": "[encoded data removed]"
          },
          "metadata": {
            "needs_background": "light"
          }
        },
        {
          "output_type": "display_data",
          "data": {
            "text/plain": [
              "<Figure size 432x288 with 1 Axes>"
            ],
            "image/png": "[encoded data removed]"
          },
          "metadata": {
            "needs_background": "light"
          }
        },
        {
          "output_type": "display_data",
          "data": {
            "text/plain": [
              "<Figure size 432x288 with 1 Axes>"
            ],
            "image/png": "[encoded data removed]"
          },
          "metadata": {
            "needs_background": "light"
          }
        }
      ]
    },
    {
      "cell_type": "code",
      "source": [],
      "metadata": {
        "id": "bDtcMtIPja5m"
      },
      "execution_count": null,
      "outputs": []
    }
  ]
}